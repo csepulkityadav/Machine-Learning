{
  "nbformat": 4,
  "nbformat_minor": 0,
  "metadata": {
    "colab": {
      "provenance": []
    },
    "kernelspec": {
      "name": "python3",
      "display_name": "Python 3"
    },
    "language_info": {
      "name": "python"
    }
  },
  "cells": [
    {
      "cell_type": "markdown",
      "source": [
        "# **Linear Regression with Scikitlearn**"
      ],
      "metadata": {
        "id": "T1qC51jPd0Jk"
      }
    },
    {
      "cell_type": "code",
      "execution_count": 20,
      "metadata": {
        "id": "pfWQju1hXqH4"
      },
      "outputs": [],
      "source": [
        "import numpy as np"
      ]
    },
    {
      "cell_type": "markdown",
      "source": [
        "## Generate synthetic data (X)"
      ],
      "metadata": {
        "id": "dpPeMDWAdBCy"
      }
    },
    {
      "cell_type": "code",
      "source": [
        "# Generate 4 samples having 2 features\n",
        "X = np.array([[1, 1], [1, 2], [2, 2], [2, 3]])\n",
        "print(X.shape)"
      ],
      "metadata": {
        "colab": {
          "base_uri": "https://localhost:8080/"
        },
        "id": "Ui-7zuDRaih2",
        "outputId": "03497fcd-b261-4c15-a735-6c90de7275a5"
      },
      "execution_count": 21,
      "outputs": [
        {
          "output_type": "stream",
          "name": "stdout",
          "text": [
            "(4, 2)\n"
          ]
        }
      ]
    },
    {
      "cell_type": "markdown",
      "source": [
        "## Generate synthetic target (Y)\n",
        "\n",
        "In general, Linear Regression will have the equation of the following form:\n",
        "**y = b1 * x1 + b2 * x2 + b0**\n",
        "\n",
        "Here, b1 abd b2 are the coefficients of the model and b0 is the intercept term (to be learned from data during training of the model).\n",
        "\n",
        "Let's say, we would like to create the following function:\n",
        "**y = 2 * x1 + 3 * x2 + 5**\n"
      ],
      "metadata": {
        "id": "XrGgRdfwdFZp"
      }
    },
    {
      "cell_type": "code",
      "source": [
        "# Generate target as per the chosen equation\n",
        "y = np.dot(X, np.array([2, 3])) + 5\n",
        "print(y)"
      ],
      "metadata": {
        "colab": {
          "base_uri": "https://localhost:8080/"
        },
        "id": "87GE8k1Ia8Bv",
        "outputId": "5efad2bc-e407-4a15-b4ff-abef05c79410"
      },
      "execution_count": 22,
      "outputs": [
        {
          "output_type": "stream",
          "name": "stdout",
          "text": [
            "[10 13 15 18]\n"
          ]
        }
      ]
    },
    {
      "cell_type": "markdown",
      "source": [
        "The model that we will build doen't know the relationship between X and Y. It has to discover the relation by learning the parameters of the linear regression model. The parameters to be learned by the model are the coefficients of the two features (x_0 and x_1) and the intercept/bias term"
      ],
      "metadata": {
        "id": "Sum4UHCAhI0W"
      }
    },
    {
      "cell_type": "markdown",
      "source": [
        "## Build and Train a LinearRegression Model"
      ],
      "metadata": {
        "id": "HetdivjDdKR2"
      }
    },
    {
      "cell_type": "code",
      "source": [
        "from sklearn.linear_model import LinearRegression\n",
        "reg = LinearRegression()\n",
        "reg.fit(X, y)"
      ],
      "metadata": {
        "colab": {
          "base_uri": "https://localhost:8080/"
        },
        "id": "Ze3RKwBFXzP2",
        "outputId": "b237c93f-7f7c-400a-813d-7e6b6402b5ca"
      },
      "execution_count": 23,
      "outputs": [
        {
          "output_type": "execute_result",
          "data": {
            "text/plain": [
              "LinearRegression()"
            ]
          },
          "metadata": {},
          "execution_count": 23
        }
      ]
    },
    {
      "cell_type": "markdown",
      "source": [
        "## Check goodness of fit\n",
        "\n",
        "The **coefficient of determination**  is defined as **R^2 = (1- u/v)**, where **u** is the residual sum of squares ((y_true - y_pred)^2).sum() and **v** is the total sum of squares ((y_true - y_true.mean())^2).sum(). \n",
        "The best possible score is 1.0 and it can be negative (because the model can be arbitrarily worse). \n",
        "A constant model that always predicts the expected value of y, disregarding the input features, would get a  score of 0.0.\n"
      ],
      "metadata": {
        "id": "S7ZhG0Dqio5c"
      }
    },
    {
      "cell_type": "code",
      "source": [
        "# R-squared- coefficient od determination\n",
        "reg.score(X, y)"
      ],
      "metadata": {
        "colab": {
          "base_uri": "https://localhost:8080/"
        },
        "id": "z9kAkdGqX1nu",
        "outputId": "2a85a5bf-bdc7-4c33-aeec-bc67fefdcc01"
      },
      "execution_count": 24,
      "outputs": [
        {
          "output_type": "execute_result",
          "data": {
            "text/plain": [
              "1.0"
            ]
          },
          "metadata": {},
          "execution_count": 24
        }
      ]
    },
    {
      "cell_type": "markdown",
      "source": [
        "## Trained model coefficient"
      ],
      "metadata": {
        "id": "Mb8vLrK9dTTS"
      }
    },
    {
      "cell_type": "code",
      "source": [
        "reg.coef_"
      ],
      "metadata": {
        "colab": {
          "base_uri": "https://localhost:8080/"
        },
        "id": "FBvELtlrX5GZ",
        "outputId": "c0b3fcba-0cd3-418b-ad83-b81de4cf4982"
      },
      "execution_count": 25,
      "outputs": [
        {
          "output_type": "execute_result",
          "data": {
            "text/plain": [
              "array([2., 3.])"
            ]
          },
          "metadata": {},
          "execution_count": 25
        }
      ]
    },
    {
      "cell_type": "markdown",
      "source": [
        "## Trained model intercept"
      ],
      "metadata": {
        "id": "6YUV_hWFdYOG"
      }
    },
    {
      "cell_type": "code",
      "source": [
        "reg.intercept_"
      ],
      "metadata": {
        "colab": {
          "base_uri": "https://localhost:8080/"
        },
        "id": "VX14QIP5X6TN",
        "outputId": "1e70d132-d65d-4c5e-c8e5-f84380094429"
      },
      "execution_count": 26,
      "outputs": [
        {
          "output_type": "execute_result",
          "data": {
            "text/plain": [
              "5.0"
            ]
          },
          "metadata": {},
          "execution_count": 26
        }
      ]
    },
    {
      "cell_type": "markdown",
      "source": [
        "So the model equation after training is:\n",
        "**y = 5.0 + 2*x1 + 3*x2**\n",
        "\n",
        "This is the relationship between X and Y (we have generated the synthetic data and established this relation earlier).\n",
        "After training, the Linear Regression model is capable of finding out the correct values for the model parameters (coefficients and intercept).\n",
        "\n"
      ],
      "metadata": {
        "id": "ugaba6vIkkO7"
      }
    },
    {
      "cell_type": "markdown",
      "source": [
        "## Make Prediction"
      ],
      "metadata": {
        "id": "020Bf1CSdbK0"
      }
    },
    {
      "cell_type": "code",
      "source": [
        "reg.predict(np.array([[3, 5]]))"
      ],
      "metadata": {
        "colab": {
          "base_uri": "https://localhost:8080/"
        },
        "id": "huVHgH8OX3Tq",
        "outputId": "5a45d933-5c60-4341-8c41-d2ab05c697c8"
      },
      "execution_count": 27,
      "outputs": [
        {
          "output_type": "execute_result",
          "data": {
            "text/plain": [
              "array([26.])"
            ]
          },
          "metadata": {},
          "execution_count": 27
        }
      ]
    },
    {
      "cell_type": "code",
      "source": [
        "reg.predict(np.array([[5, 10]]))"
      ],
      "metadata": {
        "colab": {
          "base_uri": "https://localhost:8080/"
        },
        "id": "h5CwNTvIaLVZ",
        "outputId": "1d1aa38e-c860-45b4-817f-672a2061de5b"
      },
      "execution_count": 28,
      "outputs": [
        {
          "output_type": "execute_result",
          "data": {
            "text/plain": [
              "array([45.])"
            ]
          },
          "metadata": {},
          "execution_count": 28
        }
      ]
    },
    {
      "cell_type": "markdown",
      "source": [
        "#++++++++++++++++++++++++++++++++++++++++++++++++++++++++++++++++++"
      ],
      "metadata": {
        "id": "vP1BueaYhEAy"
      }
    },
    {
      "cell_type": "markdown",
      "source": [
        "## **Generate Synthetic Data for Regression with Scikitlearn** "
      ],
      "metadata": {
        "id": "W0DuSf3Eehvj"
      }
    },
    {
      "cell_type": "code",
      "source": [
        "from sklearn.datasets import make_regression\n",
        "X, y = make_regression(n_samples=1000, n_features=5, random_state=0, noise=10.0, bias=100.0)"
      ],
      "metadata": {
        "id": "_XuVHJKweiaj"
      },
      "execution_count": 29,
      "outputs": []
    },
    {
      "cell_type": "markdown",
      "source": [
        "## Split data into training and test set"
      ],
      "metadata": {
        "id": "vriXAZMth_CW"
      }
    },
    {
      "cell_type": "code",
      "source": [
        "from sklearn.model_selection import train_test_split \n",
        "X_train, X_test, y_train, y_test = train_test_split(X, y, test_size=0.2) ## keep 20% data for testing"
      ],
      "metadata": {
        "id": "rREdiKvAe0-U"
      },
      "execution_count": 30,
      "outputs": []
    },
    {
      "cell_type": "code",
      "source": [
        "X_train.shape"
      ],
      "metadata": {
        "colab": {
          "base_uri": "https://localhost:8080/"
        },
        "id": "mtb23TL9fE-P",
        "outputId": "221c5cf0-b4ae-497e-d84b-4198b7fd26cd"
      },
      "execution_count": 31,
      "outputs": [
        {
          "output_type": "execute_result",
          "data": {
            "text/plain": [
              "(800, 5)"
            ]
          },
          "metadata": {},
          "execution_count": 31
        }
      ]
    },
    {
      "cell_type": "code",
      "source": [
        "X_test.shape"
      ],
      "metadata": {
        "colab": {
          "base_uri": "https://localhost:8080/"
        },
        "id": "4V1vFIRafGvX",
        "outputId": "2978db15-8be7-4ccc-eb8b-95d52c7ef6c0"
      },
      "execution_count": 32,
      "outputs": [
        {
          "output_type": "execute_result",
          "data": {
            "text/plain": [
              "(200, 5)"
            ]
          },
          "metadata": {},
          "execution_count": 32
        }
      ]
    },
    {
      "cell_type": "markdown",
      "source": [
        "## Build and Train a Linear Regression Model"
      ],
      "metadata": {
        "id": "vEjimyDHiC61"
      }
    },
    {
      "cell_type": "code",
      "source": [
        "from sklearn.linear_model import LinearRegression\n",
        "reg = LinearRegression()"
      ],
      "metadata": {
        "id": "bYN9WiuEfLQa"
      },
      "execution_count": 33,
      "outputs": []
    },
    {
      "cell_type": "code",
      "source": [
        "# Train the model\n",
        "reg.fit(X_train, y_train)"
      ],
      "metadata": {
        "colab": {
          "base_uri": "https://localhost:8080/"
        },
        "id": "wfKnDF-pfSzz",
        "outputId": "0312be84-fba9-405a-b8de-5c82a9692ff5"
      },
      "execution_count": 34,
      "outputs": [
        {
          "output_type": "execute_result",
          "data": {
            "text/plain": [
              "LinearRegression()"
            ]
          },
          "metadata": {},
          "execution_count": 34
        }
      ]
    },
    {
      "cell_type": "markdown",
      "source": [
        "## Check trained model coefficients"
      ],
      "metadata": {
        "id": "neI_U7QKiK5B"
      }
    },
    {
      "cell_type": "code",
      "source": [
        "reg.coef_"
      ],
      "metadata": {
        "colab": {
          "base_uri": "https://localhost:8080/"
        },
        "id": "gZxp78hQgRMt",
        "outputId": "99091e5f-fcc5-492f-94bf-1bb8f0c89ed8"
      },
      "execution_count": 35,
      "outputs": [
        {
          "output_type": "execute_result",
          "data": {
            "text/plain": [
              "array([40.68497529, 66.77973907, 10.88259561, 60.39913941, 25.72777919])"
            ]
          },
          "metadata": {},
          "execution_count": 35
        }
      ]
    },
    {
      "cell_type": "code",
      "source": [
        "reg.intercept_"
      ],
      "metadata": {
        "colab": {
          "base_uri": "https://localhost:8080/"
        },
        "id": "AJ_Ypk0RgTPj",
        "outputId": "09336362-b030-4e49-f4cb-fc15f1648ecc"
      },
      "execution_count": 36,
      "outputs": [
        {
          "output_type": "execute_result",
          "data": {
            "text/plain": [
              "100.09352838063292"
            ]
          },
          "metadata": {},
          "execution_count": 36
        }
      ]
    },
    {
      "cell_type": "markdown",
      "source": [
        "So, the model equation after training is:\n",
        "\n",
        "**y = 100 + 40.68*x1 + 66.77*x2 + 10.88*x3 + 60.39*x4 + 25.72*x6**\n"
      ],
      "metadata": {
        "id": "PBSsZFj4kLuk"
      }
    },
    {
      "cell_type": "markdown",
      "source": [
        "## Make prediction on Test data"
      ],
      "metadata": {
        "id": "cDmAacB2iP_R"
      }
    },
    {
      "cell_type": "code",
      "source": [
        "reg.predict(X_test)"
      ],
      "metadata": {
        "colab": {
          "base_uri": "https://localhost:8080/"
        },
        "id": "wvbg5j2PfRO1",
        "outputId": "0990a191-87b4-44ff-8249-8a52c45d52f8"
      },
      "execution_count": 37,
      "outputs": [
        {
          "output_type": "execute_result",
          "data": {
            "text/plain": [
              "array([ 147.16278614,   50.41340967,   58.40592907,   36.61235445,\n",
              "         48.94930909,   -5.41799738,  131.2258254 ,  216.88110982,\n",
              "         73.5627408 ,  -28.93634998,   51.66988787,  -17.84522915,\n",
              "        222.43342778,   11.11965928,   95.54410512,  154.35266743,\n",
              "         90.14583654,   81.74566608, -114.06595397,  162.9680702 ,\n",
              "         74.32188547,  192.10158557, -215.29541558,  111.70506127,\n",
              "         63.37339592,   77.59885364,  169.41711029,    0.74502149,\n",
              "       -133.98246357,   61.07678511,  183.02001647,   80.83135014,\n",
              "         82.7199532 ,  179.90074649,   56.01911993,  157.07818046,\n",
              "         96.60457596,   27.32859011,   46.59168629,    7.41593775,\n",
              "        101.88716909,  132.36622858,   27.55008245,  110.94372464,\n",
              "        200.9906544 ,  235.14253161,   55.060757  ,  -41.80592625,\n",
              "       -139.21992041,   95.14225763,   69.04637441,   85.04628802,\n",
              "        325.88733428,  324.62445738,  141.81912598,  -93.57707346,\n",
              "         67.63811266,  164.70112492,   78.53483703,  201.66168701,\n",
              "        139.05562708,   54.387073  ,   57.04504521,  101.44511844,\n",
              "         39.73250021,  124.50192872,   -8.2649346 ,   14.57323599,\n",
              "        220.73228841,    6.14616205,  107.21060675,   19.38160454,\n",
              "        125.74870371,  116.74847151,   87.02806253,   83.13950887,\n",
              "        290.44742103,  -40.60175563,   49.23040888,  238.70493798,\n",
              "        -56.15887193,  241.0699393 ,  217.58836641,   73.24276702,\n",
              "         86.156465  ,  169.66109619,  185.72848257,   22.65501855,\n",
              "         76.01595778,   67.13875499,   80.1536568 ,   85.20032668,\n",
              "        130.121904  ,   38.10332322,   26.98978806,  110.70183052,\n",
              "       -124.74353109,  -87.221152  ,   34.78066429,   33.12497856,\n",
              "         49.8735831 ,  320.52125309,  109.21855822,  172.22219613,\n",
              "        129.30988411,  -95.35750254,   -5.63928524,  -47.40059477,\n",
              "        129.40454645,  -18.9382676 ,  -34.80089126,  -11.07436573,\n",
              "        178.83845386,  153.0658142 ,  289.35946694,  129.54021119,\n",
              "         17.71413612,  198.84362699,  -24.87200925,  133.58960872,\n",
              "        143.75727097,  256.47698493,   34.8949925 ,   39.64683588,\n",
              "        224.43415241,   18.6671166 ,   -3.37097781,  -27.76941329,\n",
              "        185.95893483,   73.04580652,  119.38713597,   72.5446007 ,\n",
              "         55.30414862,  240.15680425,  264.79091121,   56.93985221,\n",
              "        120.76116312,   79.93904794,  223.25012497,   85.03929887,\n",
              "         51.32955839,  -22.97579986,  127.15860971,   69.82200367,\n",
              "         26.18138389,   95.6703985 ,   72.04746446,  123.37761962,\n",
              "        205.80678414,   41.02895077,    5.78531887,  165.16401735,\n",
              "        -30.50927055,  176.01943761,  122.27526978,   35.07979251,\n",
              "        113.47804848,    6.31570996,  290.02108888,  -29.5624096 ,\n",
              "        123.49077534,   33.02811631,  181.44438022,  121.81770517,\n",
              "        114.26787176,  214.5466479 ,  107.85518013,  117.4923395 ,\n",
              "         92.80888203,   44.82772414,   10.76360099,  245.20530372,\n",
              "        170.6239265 ,   31.80243151,   65.67252666,   21.72343929,\n",
              "         62.70492939,  109.78373124,  338.21445277,  169.10681864,\n",
              "        147.24906463,  -15.81735585,  198.61717822,  229.45820933,\n",
              "        164.91793806,  154.78348197,  171.17352809,    8.69251377,\n",
              "         85.32525011,   41.80239854, -149.00587569,  165.02943454,\n",
              "        123.44597963,   71.1215807 ,  -60.85129471,  135.08778182,\n",
              "         99.53576862,  120.5991456 ,  130.29360594,  175.51822985])"
            ]
          },
          "metadata": {},
          "execution_count": 37
        }
      ]
    },
    {
      "cell_type": "markdown",
      "source": [
        "## Check goodness of fit - R-squared\n",
        "\n",
        "The **coefficient of determination**  is defined as **R^2 = (1- u/v)**, where **u** is the residual sum of squares ((y_true - y_pred)^2).sum() and **v** is the total sum of squares ((y_true - y_true.mean())^2).sum(). \n",
        "The best possible score is 1.0 and it can be negative (because the model can be arbitrarily worse). \n",
        "A constant model that always predicts the expected value of y, disregarding the input features, would get a  score of 0.0.\n"
      ],
      "metadata": {
        "id": "jmJLFW_xiUwA"
      }
    },
    {
      "cell_type": "code",
      "source": [
        "# For a good model, this value should be close to 1.\n",
        "reg.score(X_test, y_test)"
      ],
      "metadata": {
        "colab": {
          "base_uri": "https://localhost:8080/"
        },
        "id": "1qUYoLJTfZHp",
        "outputId": "6a529ca3-2fd9-48dc-85ce-621e762e1c8f"
      },
      "execution_count": 38,
      "outputs": [
        {
          "output_type": "execute_result",
          "data": {
            "text/plain": [
              "0.9872907376409152"
            ]
          },
          "metadata": {},
          "execution_count": 38
        }
      ]
    }
  ]
}